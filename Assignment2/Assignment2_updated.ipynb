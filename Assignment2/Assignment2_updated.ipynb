{
 "cells": [
  {
   "cell_type": "markdown",
   "metadata": {},
   "source": [
    "## Introduction to Machine Learning, Summer 2021 \n",
    "### Assignment 2: $\\ell_p$, logistic regression and quadratic neural nets\n",
    "\n",
    "__Given date:__ June 11\n",
    "\n",
    "__Due date:__ June 25\n",
    "\n",
    "__Total:__ 20pts + 5pts"
   ]
  },
  {
   "cell_type": "markdown",
   "metadata": {},
   "source": [
    "### Question 1. (5pts) $\\ell_p$ norm minimization\n",
    "\n",
    "The use of the $\\ell_p$ norm can sometimes yield sparser solutions. In this exercise, we will consider the reconstruction of sparse signal from the minimization of the $\\ell_p$ norm for $p=0.5$\n"
   ]
  },
  {
   "cell_type": "markdown",
   "metadata": {},
   "source": [
    "We start by considering a simple one dimensional signal $x$ with only a few non zero features (as shown below). "
   ]
  },
  {
   "cell_type": "code",
   "execution_count": 58,
   "metadata": {},
   "outputs": [
    {
     "data": {
      "image/png": "[encoded data removed]",
      "text/plain": [
       "<Figure size 432x288 with 1 Axes>"
      ]
     },
     "metadata": {
      "needs_background": "light"
     },
     "output_type": "display_data"
    }
   ],
   "source": [
    "x = np.zeros((100,1))\n",
    "\n",
    "ind = np.random.choice(np.arange(0,len(x)), 20)\n",
    "\n",
    "x[ind] = np.random.normal(0,1,np.shape(ind)).reshape(-1,1)\n",
    "\n",
    "plt.stem(x)\n",
    "plt.show()"
   ]
  },
  {
   "cell_type": "markdown",
   "metadata": {},
   "source": [
    "We will consider the recovery of the vector above given measurements of the form $\\mathbf{y} = A\\mathbf{x}$. In this case, we will take the matrix $A$ to be given by a random subset of the rows of the DFT matrix given below. "
   ]
  },
  {
   "cell_type": "code",
   "execution_count": 70,
   "metadata": {},
   "outputs": [],
   "source": [
    "N = len(x)\n",
    "import numpy as np\n",
    "pi=np.pi\n",
    "\n",
    "\n",
    "import numpy as np\n",
    "def DFT_matrix(N):\n",
    "    i, j = np.meshgrid(np.arange(N), np.arange(N))\n",
    "    omega = np.exp( - 2 * pi * 1J / N )\n",
    "    W = np.power( omega, i * j ) / np.sqrt(N)\n",
    "    return W\n",
    "\n",
    "measurements = DFT_matrix(len(x))*(x.reshape(-1,1))\n",
    "\n",
    "idx = np.random.choice(len(x), size = 30, replace = False)\n",
    "A = DFT_matrix(len(x))[idx,:]\n",
    "b = measurements[idx]"
   ]
  },
  {
   "cell_type": "markdown",
   "metadata": {},
   "source": [
    "We thus want to solve the problem\n",
    "\n",
    "\\begin{align}\n",
    "\\min &\\quad \\left\\|\\mathbf{x}\\right\\|_{p}\\\\\n",
    "\\text{s.t.} & \\quad A \\mathbf{x} = \\mathbf{b} \n",
    "\\end{align}\n",
    "\n",
    "On approach is to rely on a projection of the gradient onto the constraint $A\\mathbf{x} = b$. Projection onto the constraint can be done through the step \n",
    "\n",
    "\\begin{align}\n",
    "\\min_{\\mathbf{x}} &\\quad \\left\\|\\mathbf{x} - \\mathbf{x}^*\\right\\|_2\\\\\n",
    "\\text{subject to} & \\quad A\\mathbf{x} = \\mathbf{b}\n",
    "\\end{align}\n",
    "\n",
    "where $\\mathbf{x}^*$ is the current point. The solution to the above problem can be computed in closed form as \n",
    "\n",
    "\\begin{align}\n",
    "\\mathbf{x} = \\mathbf{x}^* + A^*(AA^*)^{-1}(b - Ax^*)\n",
    "\\end{align}\n",
    "\n",
    "where $A^*$ is the adjoint (conjugate transpose) of the matrix $A$. The iterations then take the following form\n",
    "\\begin{align}\n",
    "\\mathbf{x} &\\leftarrow \\mathbf{x} - \\eta*d_k\\\\\n",
    "\\mathbf{x} &\\leftarrow \\mathcal{P}_{A\\mathbf{x} = \\mathbf{b}}(\\mathbf{x})\\\\\n",
    "\\end{align}\n",
    "\n",
    "Here $\\mathcal{P}_{A\\mathbf{x} = \\mathbf{b}}(\\mathbf{x})$ corresponds to $\\mathbf{x}^* + A^*(AA^*)^{-1}(b - Ax^*)$ and if we minimize $\\frac{1}{p}\\|\\mathbf{x}\\|_p^p$, the gradient can be written as \n",
    "\\begin{align}\n",
    "(d_k)_\\ell = |\\mathbf{x}_\\ell|^{p-2} \\mathbf{x}_\\ell\n",
    "\\end{align}\n",
    "\n",
    "to avoid division by $0$ we will replace $|\\mathbf{x}_\\ell|$ with $\\sqrt{|\\mathbf{x}_\\ell|^2 + \\varepsilon^2}$ for some small $\\varepsilon$"
   ]
  },
  {
   "cell_type": "markdown",
   "metadata": {},
   "source": [
    "__Question 1.1.__ Apply a few steps of the projected gradient method (1000) and compare the results for $p = 1, 2$ and $p=0.5$"
   ]
  },
  {
   "cell_type": "code",
   "execution_count": null,
   "metadata": {},
   "outputs": [],
   "source": []
  },
  {
   "cell_type": "markdown",
   "metadata": {},
   "source": [
    "### Question 2. (10pts) Logistic regression for digit recognition\n",
    "\n",
    "When considering logistic regression, one approach is to apply gradient updates on the log likelihood. In this exercise, we will use logistic regression to discriminate between two digits. Use the lines below to load the MNIST data from scikit learn. "
   ]
  },
  {
   "cell_type": "code",
   "execution_count": 67,
   "metadata": {},
   "outputs": [],
   "source": [
    "from sklearn.datasets import fetch_openml\n",
    "X, y = fetch_openml('mnist_784', version=1, return_X_y=True)"
   ]
  },
  {
   "cell_type": "markdown",
   "metadata": {},
   "source": [
    "Images from the original MNIST dataset are of size 28 by 28. Those images are stored as the rows of the X matrix above as 784 feature vectors. In this exercise, you will learn a classifier to discriminate between images of the 0 digit and of the digit 1. "
   ]
  },
  {
   "cell_type": "markdown",
   "metadata": {},
   "source": [
    "__Question 2.1 (1pts).__ Start by gathering all the images of 0 and 1 by using the target vector $y$"
   ]
  },
  {
   "cell_type": "code",
   "execution_count": null,
   "metadata": {},
   "outputs": [],
   "source": []
  },
  {
   "cell_type": "markdown",
   "metadata": {},
   "source": [
    "__Question 2.2. (1pts)__ Once you have the images, fill out the expression of the function \n",
    "sigmoid below wich should return the value of the function and its derivative for a _vector_ $\\mathbf{x}$ "
   ]
  },
  {
   "cell_type": "code",
   "execution_count": null,
   "metadata": {},
   "outputs": [],
   "source": [
    "def sigmoid(x):\n",
    "    \n",
    "    \n",
    "    \n",
    "    return sigma, dsigma_dx"
   ]
  },
  {
   "cell_type": "markdown",
   "metadata": {},
   "source": [
    "__Question 2.3. (4pts)__ Using the function sigmoid above, write a code that returns the expression of the log likelihood for an image $\\mathbf{x}_i$ with associated target $y_i = 0, 1$. Then compute the gradient of this loss.  "
   ]
  },
  {
   "cell_type": "code",
   "execution_count": null,
   "metadata": {},
   "outputs": [],
   "source": []
  },
  {
   "cell_type": "markdown",
   "metadata": {},
   "source": [
    "__Question 2.4. (4pts)__ Run SGD on the log likelihood and plot the evolution of the log loss throughout the iterations. Take a sufficiently small learning rate (0.005 - 0.0025) and consider multiple epochs (~15) with batch size (10 - 100) "
   ]
  },
  {
   "cell_type": "code",
   "execution_count": null,
   "metadata": {},
   "outputs": [],
   "source": []
  },
  {
   "cell_type": "markdown",
   "metadata": {},
   "source": [
    "### Question 3 (5pts) Intriguing properties of quadratic neural networks\n",
    "\n",
    "We consider a simple shallow network with quadratic activation functions. We will repeat the following experiments:\n",
    "\n",
    "1- Generate a 
    dataset in dimension $d$ for $d = 2, 3, 5$ and $10$ by taking $\\mathbf{x}_i \\sim \\mathcal{N}(\\mathbf{0}, \\mathbf{I})$ (multivariate Gaussian with mean 0 and covariance given by the identity), and $t_i\\sim \\mathcal{N}(0,1)$\n",
    "\n",
    "2- We consider a shallow neural network with quadratic activations as given below\n",
    "\n",
    "\\begin{align}\n",
    "h_{\\mathbf{v}, \\mathbf{W}}(\\mathbf{x}) = \\sum_{\\ell=1}^k \\mathbf{v}_\\ell \\phi(\\langle \\mathbf{w}_\\ell, \\mathbf{x} \\rangle)\n",
    "\\end{align}\n",
    "\n",
    "Such a network can be written compactly by stacking the vectors $\\mathbf{w}_\\ell$ and scalars $v_\\ell$ in the matrix $\\mathbf{W}$ and vector $\\mathbf{v}$ as \n",
    "\n",
    "\\begin{align}\n",
    "\\mathbf{W} = \\left[\\begin{array}{c}\n",
    "\\mathbf{w}_1^T\\\\\n",
    "\\mathbf{w}_2^T \\\\\n",
    "\\vdots\\\\\n",
    "\\mathbf{w}_k^T\n",
    "\\end{array}\\right]\\quad \\mathbf{v} = \\left[\\begin{array}{c}\n",
    "v_1 \\\\\n",
    "v_2 \\\\\n",
    "\\vdots \\\\\n",
    "v_k\n",
    "\\end{array}\\right]\n",
    "\\end{align} \n",
    "From this, we can write the model as \n",
    "\\begin{align}\n",
    "h_{\\mathbf{v}, \\mathbf{W}}(\\mathbf{x}) = \\mathbf{v}^T \\phi(\\mathbf{W}\\mathbf{x})\n",
    "\\end{align}\n",
    "\n",
    "We consider the minimization of the loss (for any $\\mathbf{v}$):\n",
    "\n",
    "\\begin{align}\n",
    "\\ell(\\mathbf{W}) \\frac{1}{2n} \\sum_{i=1}^n \\left(y_i - \\mathbf{v}^T\\phi(\\mathbf{W}\\mathbf{x}_i)\\right)^2\n",
    "\\end{align}\n",
    "\n",
    "\n",
    "3- Take $d\\leq n\\leq c d^2$ and start gradient descent on the loss given above for $\\mathbf{v}=\\mathbf{1}$ and $\\mathbf{W}$ generated as $\\mathbf{W}_{ij}\\sim \\mathcal{N}(0,1)/\\sqrt{d}$. wait for the iterations to converge. Repeat your experiments for several choices of $\\mathbf{W}$, $d$ and $k$. Start by taking $k$ smaller than $k$, then gradually increase $k$ so that it ultimately becomes larger than $d$. Plot the evolution of the loss for each experiment. Compare the evolution "
   ]
  },
  {
   "cell_type": "code",
   "execution_count": null,
   "metadata": {},
   "outputs": [],
   "source": []
  }
 ],
 "metadata": {
  "kernelspec": {
   "display_name": "Python 3",
   "language": "python",
   "name": "python3"
  },
  "language_info": {
   "codemirror_mode": {
    "name": "ipython",
    "version": 3
   },
   "file_extension": ".py",
   "mimetype": "text/x-python",
   "name": "python",
   "nbconvert_exporter": "python",
   "pygments_lexer": "ipython3",
   "version": "3.8.5"
  }
 },
 "nbformat": 4,
 "nbformat_minor": 4
}
